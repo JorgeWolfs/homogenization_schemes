{
  "metadata": {
    "language_info": {
      "codemirror_mode": {
        "name": "python",
        "version": 3
      },
      "file_extension": ".py",
      "mimetype": "text/x-python",
      "name": "python",
      "nbconvert_exporter": "python",
      "pygments_lexer": "ipython3",
      "version": "3.8"
    },
    "kernelspec": {
      "name": "python",
      "display_name": "Python (Pyodide)",
      "language": "python"
    }
  },
  "nbformat_minor": 4,
  "nbformat": 4,
  "cells": [
    {
      "cell_type": "code",
      "source": "%pip install -q ipywidgets",
      "metadata": {
        "trusted": true
      },
      "execution_count": 5,
      "outputs": []
    },
    {
      "cell_type": "code",
      "source": "import numpy as np\nimport matplotlib.pyplot as plt\nfrom ipywidgets import interactive, fixed",
      "metadata": {
        "trusted": true
      },
      "execution_count": 6,
      "outputs": []
    },
    {
      "cell_type": "code",
      "source": "\ndef space_generator(thickness, resolution):\n    return np.linspace(-thickness/2, thickness/2, num=resolution)\n\n\ndef power_law_volume_fraction(thickness, resolution, exp):\n    mesh = space_generator(thickness, resolution)\n    v_f = []\n    for coordinate in mesh:\n        v_f.append(\n            (.5 + coordinate / thickness) ** exp\n        )\n    return v_f\n\n\ndef power_law(P_1, P_2, exp, thickness, resolution):\n    v_f = power_law_volume_fraction(thickness, resolution, exp)\n    property = []\n    for volume_fraction in v_f:\n        property.append(volume_fraction * (P_1 - P_2) + P_2)\n    return property\n\n\ndef sigmoid_law_volume_fraction(exp, thickness, resolution):\n    mesh = space_generator(thickness, resolution)\n    f_z_1 = []\n    f_z_2 = []\n    for coordinate in mesh:\n        if coordinate >= 0:\n            f_z_1.append(\n                (1 - .5 * ((thickness / 2 - coordinate) / (thickness / 2)) ** exp)\n            )\n        else:\n            f_z_2.append(\n                .5 * ((thickness / 2 + coordinate) / (thickness / 2)) ** exp\n            )\n    return f_z_1, f_z_2\n\n\ndef sigmoid_law(P_1, P_2, exponent, thickness, resolution):\n    f_z_1, f_z_2 = sigmoid_law_volume_fraction(exponent, thickness, resolution)\n    mesh = space_generator(thickness, resolution)\n    property = []\n    cnt = 0\n    cnt_2 = 0\n    for coordinate in mesh:\n        if coordinate > 0:\n            property.append(\n                (f_z_1[cnt]) * P_1 + (1 - f_z_1[cnt]) * P_2\n            )\n            cnt += 1\n        else:\n            property.append(\n                f_z_2[cnt_2] * P_1 + (1 - f_z_2[cnt_2]) * P_2\n            )\n            cnt_2 += 1\n    return property\n\n\ndef exponential_law(P_1, P_2, thickness, resolution):\n    mesh = space_generator(thickness, resolution)\n    property = [P_2 * np.exp(1/thickness * np.log(P_1/P_2) * (coordinate + thickness/2)) for coordinate in mesh]\n    return property\n\n\ndef run_and_visualise(P_1=2, P_2=10, exp=2, h=2, res=20):\n    x = space_generator(h, res)\n    P_law = power_law(P_1, P_2, exp, h, res)\n    P_sigmoid = sigmoid_law(P_1, P_2, exp, h, res)\n    P_exp = exponential_law(P_1, P_2, h, res)\n    fig, ax = plt.subplots()\n    plt.plot(x, P_law, label='Power Law')\n    plt.plot(x, P_sigmoid, label='Sigmoid')\n    plt.plot(x, P_exp, label='Exponential')\n    plt.legend()\n    ax.set_xlabel('Distance along build direction (m)')\n    ax.set_ylabel('Property')\n    plt.show()",
      "metadata": {
        "trusted": true
      },
      "execution_count": 10,
      "outputs": []
    },
    {
      "cell_type": "code",
      "source": "w=interactive(run_and_visualise, P_1=(0.1, 100), P_2=(0.1, 100), exp=(1, 20), h=(.1, 20), res=(3, 100))\nw",
      "metadata": {
        "trusted": true
      },
      "execution_count": 12,
      "outputs": [
        {
          "execution_count": 12,
          "output_type": "execute_result",
          "data": {
            "text/plain": "interactive(children=(FloatSlider(value=2.0, description='P_1', min=0.1), FloatSlider(value=10.0, description=…",
            "application/vnd.jupyter.widget-view+json": {
              "version_major": 2,
              "version_minor": 0,
              "model_id": "d8460ef8e6114039b99b78956a350f29"
            }
          },
          "metadata": {}
        }
      ]
    },
    {
      "cell_type": "code",
      "source": "",
      "metadata": {
        "trusted": true
      },
      "execution_count": null,
      "outputs": []
    },
    {
      "cell_type": "code",
      "source": "",
      "metadata": {},
      "execution_count": null,
      "outputs": []
    }
  ]
}